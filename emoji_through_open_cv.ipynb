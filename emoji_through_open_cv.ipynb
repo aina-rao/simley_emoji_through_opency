{
 "cells": [
  {
   "cell_type": "code",
   "execution_count": 60,
   "metadata": {},
   "outputs": [
    {
     "data": {
      "text/plain": [
       "-1"
      ]
     },
     "execution_count": 60,
     "metadata": {},
     "output_type": "execute_result"
    }
   ],
   "source": [
    "import cv2 as cv\n",
    "import numpy as np\n",
    "#creating an emoji thorgh blank image\n",
    "blank1=np.zeros((512,512,3), np.uint8)\n",
    "blank=cv.circle(blank1,(256,256), 63, (0,0,255), -1)\n",
    "blank2=cv.ellipse(blank,(256,256),(50,50),0,0,180,255,-1)\n",
    "blank3=cv.circle(blank2,(230,230), 10, (0,0,0), -1)\n",
    "blank4=cv.circle(blank2,(280,230), 10, (0,255,0), -1)\n",
    "cv.imshow('image_with_circle',blank3)\n",
    "cv.waitKey(0)"
   ]
  },
  {
   "cell_type": "code",
   "execution_count": null,
   "metadata": {},
   "outputs": [],
   "source": []
  },
  {
   "cell_type": "code",
   "execution_count": null,
   "metadata": {},
   "outputs": [],
   "source": []
  }
 ],
 "metadata": {
  "interpreter": {
   "hash": "f73006146ed36faad7f20e0f3a97291ef7786c36a0812c09b8e690cb4a45ba88"
  },
  "kernelspec": {
   "display_name": "Python 3.10.4 64-bit",
   "language": "python",
   "name": "python3"
  },
  "language_info": {
   "codemirror_mode": {
    "name": "ipython",
    "version": 3
   },
   "file_extension": ".py",
   "mimetype": "text/x-python",
   "name": "python",
   "nbconvert_exporter": "python",
   "pygments_lexer": "ipython3",
   "version": "3.10.4"
  },
  "orig_nbformat": 4
 },
 "nbformat": 4,
 "nbformat_minor": 2
}
